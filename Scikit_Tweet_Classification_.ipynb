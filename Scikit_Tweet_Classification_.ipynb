{
  "nbformat": 4,
  "nbformat_minor": 0,
  "metadata": {
    "colab": {
      "name": "Scikit Tweet Classification .ipynb",
      "provenance": [],
      "authorship_tag": "ABX9TyPzTsoNOHi8pk4JVqAHP5fF",
      "include_colab_link": true
    },
    "kernelspec": {
      "display_name": "Python 3",
      "name": "python3"
    },
    "language_info": {
      "name": "python"
    }
  },
  "cells": [
    {
      "cell_type": "markdown",
      "metadata": {
        "id": "view-in-github",
        "colab_type": "text"
      },
      "source": [
        "<a href=\"https://colab.research.google.com/github/dhanyab123/tweet/blob/main/Scikit_Tweet_Classification_.ipynb\" target=\"_parent\"><img src=\"https://colab.research.google.com/assets/colab-badge.svg\" alt=\"Open In Colab\"/></a>"
      ]
    },
    {
      "cell_type": "markdown",
      "metadata": {
        "id": "Wyn2B80xaiHq"
      },
      "source": [
        "---\n",
        "# DETECTION OF AGRESSIVE TWEETS USING DIFFERENT CLASSIFIERS\n",
        "\n",
        "---"
      ]
    },
    {
      "cell_type": "markdown",
      "metadata": {
        "id": "I7nuuDUwczjH"
      },
      "source": [
        "Using the kaggle dataset containing 20000 tweets which are classified as trolls or just normal tweets, we can create a supervised learning model to further classify other tweets so as to decrease cyber-bullying and other situations that arise in the online space."
      ]
    },
    {
      "cell_type": "markdown",
      "metadata": {
        "id": "d6N4FS_A7jJH"
      },
      "source": [
        "DATASET link:\n",
        "https://www.kaggle.com/dataturks/dataset-for-detection-of-cybertrolls"
      ]
    },
    {
      "cell_type": "code",
      "metadata": {
        "id": "jlx7Wn1iQ2QM"
      },
      "source": [
        "import numpy as np\n",
        "import pandas as pd\n",
        "import matplotlib.pyplot as plt\n",
        "import json"
      ],
      "execution_count": 1,
      "outputs": []
    },
    {
      "cell_type": "code",
      "metadata": {
        "id": "hTaaLFC2SNTv"
      },
      "source": [
        "# Assigning the json file to the name 'file'\n",
        "file = 'Dataset for Detection of Cyber-Trolls.json'"
      ],
      "execution_count": 2,
      "outputs": []
    },
    {
      "cell_type": "code",
      "metadata": {
        "colab": {
          "base_uri": "https://localhost:8080/"
        },
        "id": "fLATq9acZ5mc",
        "outputId": "d8651344-302a-430e-93d5-88f6f3876cdd"
      },
      "source": [
        "# Opening the file to view the values\n",
        "with open(file) as data:\n",
        "  for eachline in data:\n",
        "    # reading the data in each line by using the object 'val' which loads each line\n",
        "    val = json.loads(eachline)\n",
        "    print(val['content'])\n",
        "    # as the element under column 'annotation' is a dictionary with two key value pairs \n",
        "    # using g to get the value for the key: 'label' \n",
        "    # as the value for that is a list with one string 1 or 0 to indicate if the message is a troll\n",
        "    # using list index [0] to get that string value\n",
        "    g = val['annotation'].get('label')[0]\n",
        "    # to make the loop stop after one output - break statement is used\n",
        "    break"
      ],
      "execution_count": 3,
      "outputs": [
        {
          "output_type": "stream",
          "text": [
            " Get fucking real dude.\n"
          ],
          "name": "stdout"
        }
      ]
    },
    {
      "cell_type": "code",
      "metadata": {
        "id": "fuvXwU70tSgw"
      },
      "source": [
        "# Creating a class named 'review' which takes the feedback and review as input to \n",
        "# provide us with the data - if the sentiment is a troll human or something else\n",
        "\n",
        "class review:\n",
        "  def __init__(self, feedback, rating):\n",
        "    self.feedback = feedback\n",
        "    self.rating = rating\n",
        "    self.senti = self.get_senti()\n",
        "  def get_senti(self):\n",
        "    if self.rating == '0':\n",
        "      return 'Not Aggressive'\n",
        "    elif self.rating == '1':\n",
        "      return 'Aggressive'"
      ],
      "execution_count": 4,
      "outputs": []
    },
    {
      "cell_type": "code",
      "metadata": {
        "id": "0hLruxXmuhsZ"
      },
      "source": [
        "# Using a list called 'vals' to store the values that we get from the json file\n",
        "vals = []\n",
        "\n",
        "with open(file) as data:\n",
        "  for eachline in data:\n",
        "    # print(eachline)\n",
        "    val = json.loads(eachline)\n",
        "    g = val['annotation'].get('label')[0]\n",
        "    vals.append(review(val['content'],g))"
      ],
      "execution_count": 5,
      "outputs": []
    },
    {
      "cell_type": "code",
      "metadata": {
        "colab": {
          "base_uri": "https://localhost:8080/"
        },
        "id": "P9Pbr_xpvMUq",
        "outputId": "1f791f8e-ca0f-491e-d725-95b82b7c7e67"
      },
      "source": [
        "# To view the values in the list vals where the index to be viewed can be obtained by changing the value of x\n",
        "x = 9000\n",
        "\n",
        "print('Content : \\n',vals[x].feedback)\n",
        "print('Rating : \\n',vals[x].rating)\n",
        "print('Sentiment : \\n',vals[x].senti)"
      ],
      "execution_count": 6,
      "outputs": [
        {
          "output_type": "stream",
          "text": [
            "Content : \n",
            " lol  what?  Tell Danielle that I have mad skills when it comes to reading people  fuck.\n",
            "Rating : \n",
            " 0\n",
            "Sentiment : \n",
            " Not Aggressive\n"
          ],
          "name": "stdout"
        }
      ]
    },
    {
      "cell_type": "code",
      "metadata": {
        "id": "YTvQJhwQzJjx"
      },
      "source": [
        "# Importing sklearn\n",
        "from sklearn.model_selection import train_test_split"
      ],
      "execution_count": 7,
      "outputs": []
    },
    {
      "cell_type": "code",
      "metadata": {
        "colab": {
          "base_uri": "https://localhost:8080/"
        },
        "id": "v2_3AG2vzQ92",
        "outputId": "363fd7c4-4456-4b4f-ef80-b8324f2ca48f"
      },
      "source": [
        "# checking the length of the data\n",
        "len(vals)"
      ],
      "execution_count": 8,
      "outputs": [
        {
          "output_type": "execute_result",
          "data": {
            "text/plain": [
              "20001"
            ]
          },
          "metadata": {
            "tags": []
          },
          "execution_count": 8
        }
      ]
    },
    {
      "cell_type": "code",
      "metadata": {
        "colab": {
          "base_uri": "https://localhost:8080/"
        },
        "id": "hqLrXxFdzVX1",
        "outputId": "399926bf-0445-4673-90d3-9484f7cd7a28"
      },
      "source": [
        "# using the imported function to split our data into train and test sets where the test set has 25% of the data\n",
        "train, test = train_test_split(vals)\n",
        "\n",
        "print(len(train), len(test))"
      ],
      "execution_count": 9,
      "outputs": [
        {
          "output_type": "stream",
          "text": [
            "15000 5001\n"
          ],
          "name": "stdout"
        }
      ]
    },
    {
      "cell_type": "code",
      "metadata": {
        "colab": {
          "base_uri": "https://localhost:8080/"
        },
        "id": "Da9wxENc0HbF",
        "outputId": "8009882c-c8fd-4f0c-b8d4-a8b6e8ae7857"
      },
      "source": [
        "# Again used to view the elements at certain indexes\n",
        "x = 30\n",
        "\n",
        "print('Feedback : \\n',train[x].feedback)\n",
        "print('Rating : \\n',train[x].rating)\n",
        "print('Sentiment : \\n',train[x].senti)"
      ],
      "execution_count": 10,
      "outputs": [
        {
          "output_type": "stream",
          "text": [
            "Feedback : \n",
            "  Does it bother you that travesti immitate your favorite singers?\n",
            "Rating : \n",
            " 0\n",
            "Sentiment : \n",
            " Not Aggressive\n"
          ],
          "name": "stdout"
        }
      ]
    },
    {
      "cell_type": "code",
      "metadata": {
        "id": "iD6-bBaCpBto"
      },
      "source": [
        "# Splitting the x and y values of training data\n",
        "train_x = [x.feedback for x in train]\n",
        "train_y = [x.senti for x in train]\n",
        "\n",
        "# Splitting the x and y values of testing data\n",
        "test_x = [x.feedback for x in test]\n",
        "test_y = [x.senti for x in test]\n",
        "\n",
        "# train_x[1]\n",
        "\n",
        "# train_y[1]"
      ],
      "execution_count": 11,
      "outputs": []
    },
    {
      "cell_type": "code",
      "metadata": {
        "id": "3DffQOOHaaio"
      },
      "source": [
        "# import sklearn feature extractor\n",
        "\n",
        "from sklearn.feature_extraction.text import CountVectorizer"
      ],
      "execution_count": 12,
      "outputs": []
    },
    {
      "cell_type": "code",
      "metadata": {
        "id": "tcnm-1-de4ba"
      },
      "source": [
        "vectorizer = CountVectorizer()\n",
        "\n",
        "# converting the train text into a vector\n",
        "vector_train_x = vectorizer.fit_transform(train_x)\n",
        "\n",
        "# converting the test text into a vector\n",
        "vector_test_x = vectorizer.transform(test_x)"
      ],
      "execution_count": 13,
      "outputs": []
    },
    {
      "cell_type": "code",
      "metadata": {
        "id": "gYcikeVqRNvY"
      },
      "source": [
        "# to collect values for final analysis\n",
        "\n",
        "# the scores of each model comparing the predicted and the real answers for the test data\n",
        "scores = []\n",
        "\n",
        "# the f1 scores of each model\n",
        "fi = []"
      ],
      "execution_count": 14,
      "outputs": []
    },
    {
      "cell_type": "markdown",
      "metadata": {
        "id": "7QRLL1hMuQps"
      },
      "source": [
        "\n",
        "\n",
        "---\n",
        "\n",
        "\n",
        "## Linear SVM"
      ]
    },
    {
      "cell_type": "code",
      "metadata": {
        "id": "TXORv6cJgftM"
      },
      "source": [
        "# importing support vector machine\n",
        "from sklearn import svm"
      ],
      "execution_count": 15,
      "outputs": []
    },
    {
      "cell_type": "code",
      "metadata": {
        "colab": {
          "base_uri": "https://localhost:8080/"
        },
        "id": "iBAtpp9WgpDf",
        "outputId": "bc9d3d84-8d37-4fcd-d538-ee86ece0834a"
      },
      "source": [
        "# loading the svm \n",
        "clsf = svm.SVC(kernel='linear')\n",
        "\n",
        "# Performing the training \n",
        "clsf.fit(vector_train_x, train_y)"
      ],
      "execution_count": 16,
      "outputs": [
        {
          "output_type": "execute_result",
          "data": {
            "text/plain": [
              "SVC(C=1.0, break_ties=False, cache_size=200, class_weight=None, coef0=0.0,\n",
              "    decision_function_shape='ovr', degree=3, gamma='scale', kernel='linear',\n",
              "    max_iter=-1, probability=False, random_state=None, shrinking=True,\n",
              "    tol=0.001, verbose=False)"
            ]
          },
          "metadata": {
            "tags": []
          },
          "execution_count": 16
        }
      ]
    },
    {
      "cell_type": "code",
      "metadata": {
        "colab": {
          "base_uri": "https://localhost:8080/"
        },
        "id": "VsZRsHpdjsv-",
        "outputId": "05c934b4-a5a0-47ca-ec13-bad2e0054577"
      },
      "source": [
        "# to view the predictions that the classifier makes on the test data \n",
        "print(clsf.predict(vector_test_x[0:10]))\n",
        "\n",
        "# to view the expected results\n",
        "print(test_y[0:10])"
      ],
      "execution_count": 17,
      "outputs": [
        {
          "output_type": "stream",
          "text": [
            "['Not Aggressive' 'Aggressive' 'Not Aggressive' 'Not Aggressive'\n",
            " 'Aggressive' 'Aggressive' 'Aggressive' 'Aggressive' 'Not Aggressive'\n",
            " 'Not Aggressive']\n",
            "['Not Aggressive', 'Aggressive', 'Not Aggressive', 'Aggressive', 'Not Aggressive', 'Not Aggressive', 'Aggressive', 'Aggressive', 'Not Aggressive', 'Not Aggressive']\n"
          ],
          "name": "stdout"
        }
      ]
    },
    {
      "cell_type": "code",
      "metadata": {
        "id": "hNBMwpSJkKGL"
      },
      "source": [
        "# Giving external inputs to the classifier\n",
        "sample = ['dork', 'happy birthday', 'BIG BAD MAN', 'i hate you', 'dumbo']\n",
        "\n",
        "our = vectorizer.transform(sample)"
      ],
      "execution_count": 18,
      "outputs": []
    },
    {
      "cell_type": "code",
      "metadata": {
        "id": "F_3vc6oalyJD"
      },
      "source": [
        "o = clsf.predict(our)"
      ],
      "execution_count": 19,
      "outputs": []
    },
    {
      "cell_type": "code",
      "metadata": {
        "colab": {
          "base_uri": "https://localhost:8080/"
        },
        "id": "UBycjuPJmTE3",
        "outputId": "0f9ff078-cd6e-4de2-e1f7-f8812b304504"
      },
      "source": [
        "for i in range (len(o)):\n",
        "  print('text:', sample[i])\n",
        "  print('prediction:', o[i])\n",
        "  print('-------------------------------------------------')"
      ],
      "execution_count": 20,
      "outputs": [
        {
          "output_type": "stream",
          "text": [
            "text: dork\n",
            "prediction: Not Aggressive\n",
            "-------------------------------------------------\n",
            "text: happy birthday\n",
            "prediction: Not Aggressive\n",
            "-------------------------------------------------\n",
            "text: BIG BAD MAN\n",
            "prediction: Not Aggressive\n",
            "-------------------------------------------------\n",
            "text: i hate you\n",
            "prediction: Aggressive\n",
            "-------------------------------------------------\n",
            "text: dumbo\n",
            "prediction: Not Aggressive\n",
            "-------------------------------------------------\n"
          ],
          "name": "stdout"
        }
      ]
    },
    {
      "cell_type": "code",
      "metadata": {
        "id": "QegF2-uWnY7p"
      },
      "source": [
        "# To append the score of the classifier into the list\n",
        "scores.append(clsf.score(vector_test_x, test_y))"
      ],
      "execution_count": 21,
      "outputs": []
    },
    {
      "cell_type": "code",
      "metadata": {
        "id": "5z35hzdboF6N"
      },
      "source": [
        "# To append the f1 score of the classifier into the list\n",
        "\n",
        "from sklearn.metrics import f1_score\n",
        "\n",
        "fi.append(f1_score(test_y, clsf.predict(vector_test_x), average=None))"
      ],
      "execution_count": 22,
      "outputs": []
    },
    {
      "cell_type": "markdown",
      "metadata": {
        "id": "2hYQLvQmucaB"
      },
      "source": [
        "---\n",
        "### Radial Basis SVM"
      ]
    },
    {
      "cell_type": "code",
      "metadata": {
        "colab": {
          "base_uri": "https://localhost:8080/"
        },
        "id": "oDNsuTqkucaB",
        "outputId": "a8fc6811-9314-465a-e103-7ce1f0b40655"
      },
      "source": [
        "# loading the svm \n",
        "clsf = svm.SVC(kernel='rbf')\n",
        "\n",
        "# Performing the training \n",
        "clsf.fit(vector_train_x, train_y)"
      ],
      "execution_count": 23,
      "outputs": [
        {
          "output_type": "execute_result",
          "data": {
            "text/plain": [
              "SVC(C=1.0, break_ties=False, cache_size=200, class_weight=None, coef0=0.0,\n",
              "    decision_function_shape='ovr', degree=3, gamma='scale', kernel='rbf',\n",
              "    max_iter=-1, probability=False, random_state=None, shrinking=True,\n",
              "    tol=0.001, verbose=False)"
            ]
          },
          "metadata": {
            "tags": []
          },
          "execution_count": 23
        }
      ]
    },
    {
      "cell_type": "code",
      "metadata": {
        "colab": {
          "base_uri": "https://localhost:8080/"
        },
        "id": "H-XQIIINucaC",
        "outputId": "0e4983eb-60bc-49b2-9917-615f09d7f228"
      },
      "source": [
        "print(clsf.predict(vector_test_x[0:10]))\n",
        "print(test_y[0:10])"
      ],
      "execution_count": 24,
      "outputs": [
        {
          "output_type": "stream",
          "text": [
            "['Not Aggressive' 'Aggressive' 'Not Aggressive' 'Not Aggressive'\n",
            " 'Aggressive' 'Not Aggressive' 'Aggressive' 'Aggressive' 'Not Aggressive'\n",
            " 'Not Aggressive']\n",
            "['Not Aggressive', 'Aggressive', 'Not Aggressive', 'Aggressive', 'Not Aggressive', 'Not Aggressive', 'Aggressive', 'Aggressive', 'Not Aggressive', 'Not Aggressive']\n"
          ],
          "name": "stdout"
        }
      ]
    },
    {
      "cell_type": "code",
      "metadata": {
        "id": "3erR38GrucaF"
      },
      "source": [
        "scores.append(clsf.score(vector_test_x, test_y))"
      ],
      "execution_count": 25,
      "outputs": []
    },
    {
      "cell_type": "code",
      "metadata": {
        "id": "4bb2K7WcucaG"
      },
      "source": [
        "fi.append(f1_score(test_y, clsf.predict(vector_test_x), average=None))"
      ],
      "execution_count": 26,
      "outputs": []
    },
    {
      "cell_type": "markdown",
      "metadata": {
        "id": "t_bL_te_vKKu"
      },
      "source": [
        "---\n",
        "### KNN"
      ]
    },
    {
      "cell_type": "code",
      "metadata": {
        "id": "KKL1glv-w05j"
      },
      "source": [
        "from sklearn.neighbors import KNeighborsClassifier "
      ],
      "execution_count": 27,
      "outputs": []
    },
    {
      "cell_type": "code",
      "metadata": {
        "colab": {
          "base_uri": "https://localhost:8080/"
        },
        "id": "a766VHgKxFgS",
        "outputId": "4dd478f8-3090-4a62-c39a-1f77dff09b09"
      },
      "source": [
        "nei = KNeighborsClassifier(n_neighbors= 2)\n",
        "nei.fit(vector_train_x, train_y)"
      ],
      "execution_count": 28,
      "outputs": [
        {
          "output_type": "execute_result",
          "data": {
            "text/plain": [
              "KNeighborsClassifier(algorithm='auto', leaf_size=30, metric='minkowski',\n",
              "                     metric_params=None, n_jobs=None, n_neighbors=2, p=2,\n",
              "                     weights='uniform')"
            ]
          },
          "metadata": {
            "tags": []
          },
          "execution_count": 28
        }
      ]
    },
    {
      "cell_type": "code",
      "metadata": {
        "colab": {
          "base_uri": "https://localhost:8080/"
        },
        "id": "fJpltK0ox0H-",
        "outputId": "02299f46-a893-443b-a956-67dc90a76040"
      },
      "source": [
        "print(nei.predict(vector_test_x[0:10]))\n",
        "print(test_y[0:10])"
      ],
      "execution_count": 29,
      "outputs": [
        {
          "output_type": "stream",
          "text": [
            "['Not Aggressive' 'Aggressive' 'Aggressive' 'Aggressive' 'Aggressive'\n",
            " 'Not Aggressive' 'Aggressive' 'Aggressive' 'Aggressive' 'Aggressive']\n",
            "['Not Aggressive', 'Aggressive', 'Not Aggressive', 'Aggressive', 'Not Aggressive', 'Not Aggressive', 'Aggressive', 'Aggressive', 'Not Aggressive', 'Not Aggressive']\n"
          ],
          "name": "stdout"
        }
      ]
    },
    {
      "cell_type": "code",
      "metadata": {
        "id": "kRhOavf6y1-o"
      },
      "source": [
        "scores.append(nei.score(vector_test_x, test_y))"
      ],
      "execution_count": 30,
      "outputs": []
    },
    {
      "cell_type": "code",
      "metadata": {
        "id": "hwQ-9px6zLl4"
      },
      "source": [
        "fi.append(f1_score(test_y, nei.predict(vector_test_x), average=None))"
      ],
      "execution_count": 31,
      "outputs": []
    },
    {
      "cell_type": "markdown",
      "metadata": {
        "id": "LQ3qUHep8RJ3"
      },
      "source": [
        "---\n",
        "## Decision Tree"
      ]
    },
    {
      "cell_type": "code",
      "metadata": {
        "id": "JNLmWJqq8YAI"
      },
      "source": [
        "from sklearn.tree import DecisionTreeClassifier"
      ],
      "execution_count": 32,
      "outputs": []
    },
    {
      "cell_type": "code",
      "metadata": {
        "colab": {
          "base_uri": "https://localhost:8080/"
        },
        "id": "8-pw_z8s5amc",
        "outputId": "493f8318-4c3c-4964-90ec-9d642ece0483"
      },
      "source": [
        "tre = DecisionTreeClassifier(random_state = 42)\n",
        "\n",
        "tre.fit(vector_train_x, train_y)"
      ],
      "execution_count": 33,
      "outputs": [
        {
          "output_type": "execute_result",
          "data": {
            "text/plain": [
              "DecisionTreeClassifier(ccp_alpha=0.0, class_weight=None, criterion='gini',\n",
              "                       max_depth=None, max_features=None, max_leaf_nodes=None,\n",
              "                       min_impurity_decrease=0.0, min_impurity_split=None,\n",
              "                       min_samples_leaf=1, min_samples_split=2,\n",
              "                       min_weight_fraction_leaf=0.0, presort='deprecated',\n",
              "                       random_state=42, splitter='best')"
            ]
          },
          "metadata": {
            "tags": []
          },
          "execution_count": 33
        }
      ]
    },
    {
      "cell_type": "code",
      "metadata": {
        "colab": {
          "base_uri": "https://localhost:8080/"
        },
        "id": "14BFWCy_6l17",
        "outputId": "a2726d06-644c-4910-fdcd-cca819f1b387"
      },
      "source": [
        "print(tre.predict(vector_test_x[0:10]))\n",
        "print(test_y[0:10])"
      ],
      "execution_count": 34,
      "outputs": [
        {
          "output_type": "stream",
          "text": [
            "['Aggressive' 'Aggressive' 'Not Aggressive' 'Aggressive' 'Aggressive'\n",
            " 'Not Aggressive' 'Aggressive' 'Aggressive' 'Not Aggressive'\n",
            " 'Not Aggressive']\n",
            "['Not Aggressive', 'Aggressive', 'Not Aggressive', 'Aggressive', 'Not Aggressive', 'Not Aggressive', 'Aggressive', 'Aggressive', 'Not Aggressive', 'Not Aggressive']\n"
          ],
          "name": "stdout"
        }
      ]
    },
    {
      "cell_type": "code",
      "metadata": {
        "id": "kdD8cdpv6pz7"
      },
      "source": [
        "scores.append(tre.score(vector_test_x, test_y))"
      ],
      "execution_count": 35,
      "outputs": []
    },
    {
      "cell_type": "code",
      "metadata": {
        "id": "s6q7RvQT6vbv"
      },
      "source": [
        "fi.append(f1_score(test_y, tre.predict(vector_test_x), average=None))"
      ],
      "execution_count": 36,
      "outputs": []
    },
    {
      "cell_type": "markdown",
      "metadata": {
        "id": "kg0Dg9C87L_H"
      },
      "source": [
        "---\n",
        "## Random Forest"
      ]
    },
    {
      "cell_type": "code",
      "metadata": {
        "id": "pxnBd-UA7ZXO"
      },
      "source": [
        "from sklearn.ensemble import RandomForestClassifier"
      ],
      "execution_count": 37,
      "outputs": []
    },
    {
      "cell_type": "code",
      "metadata": {
        "colab": {
          "base_uri": "https://localhost:8080/"
        },
        "id": "pZ2-EWuV9Aps",
        "outputId": "fe37fd8b-663d-42ab-ee22-51a53647a76c"
      },
      "source": [
        "rfor = RandomForestClassifier(random_state= 42)\n",
        "\n",
        "rfor.fit(vector_train_x, train_y)"
      ],
      "execution_count": 38,
      "outputs": [
        {
          "output_type": "execute_result",
          "data": {
            "text/plain": [
              "RandomForestClassifier(bootstrap=True, ccp_alpha=0.0, class_weight=None,\n",
              "                       criterion='gini', max_depth=None, max_features='auto',\n",
              "                       max_leaf_nodes=None, max_samples=None,\n",
              "                       min_impurity_decrease=0.0, min_impurity_split=None,\n",
              "                       min_samples_leaf=1, min_samples_split=2,\n",
              "                       min_weight_fraction_leaf=0.0, n_estimators=100,\n",
              "                       n_jobs=None, oob_score=False, random_state=42, verbose=0,\n",
              "                       warm_start=False)"
            ]
          },
          "metadata": {
            "tags": []
          },
          "execution_count": 38
        }
      ]
    },
    {
      "cell_type": "code",
      "metadata": {
        "colab": {
          "base_uri": "https://localhost:8080/"
        },
        "id": "KnYGDxdp9dyo",
        "outputId": "53ac4b18-ed4a-4def-80f4-40922077f1f4"
      },
      "source": [
        "print(rfor.predict(vector_test_x[0:10]))\n",
        "print(test_y[0:10])"
      ],
      "execution_count": 39,
      "outputs": [
        {
          "output_type": "stream",
          "text": [
            "['Not Aggressive' 'Aggressive' 'Not Aggressive' 'Aggressive' 'Aggressive'\n",
            " 'Not Aggressive' 'Aggressive' 'Aggressive' 'Not Aggressive'\n",
            " 'Not Aggressive']\n",
            "['Not Aggressive', 'Aggressive', 'Not Aggressive', 'Aggressive', 'Not Aggressive', 'Not Aggressive', 'Aggressive', 'Aggressive', 'Not Aggressive', 'Not Aggressive']\n"
          ],
          "name": "stdout"
        }
      ]
    },
    {
      "cell_type": "code",
      "metadata": {
        "id": "z9OndLXL9hf1"
      },
      "source": [
        "scores.append(rfor.score(vector_test_x, test_y))"
      ],
      "execution_count": 40,
      "outputs": []
    },
    {
      "cell_type": "code",
      "metadata": {
        "id": "xKVAaQ9w-AD5"
      },
      "source": [
        "fi.append(f1_score(test_y, rfor.predict(vector_test_x), average = None))"
      ],
      "execution_count": 41,
      "outputs": []
    },
    {
      "cell_type": "markdown",
      "metadata": {
        "id": "Vq3wBFJH-gso"
      },
      "source": [
        "---\n",
        "## ADA Boost"
      ]
    },
    {
      "cell_type": "code",
      "metadata": {
        "id": "bbeYEyCt-gsq"
      },
      "source": [
        "from sklearn.ensemble import AdaBoostClassifier"
      ],
      "execution_count": 42,
      "outputs": []
    },
    {
      "cell_type": "code",
      "metadata": {
        "colab": {
          "base_uri": "https://localhost:8080/"
        },
        "id": "80O-Jmzx-gsr",
        "outputId": "073fd693-0ca7-429f-d397-49d5f9753130"
      },
      "source": [
        "ada = AdaBoostClassifier(random_state= 42)\n",
        "\n",
        "ada.fit(vector_train_x, train_y)"
      ],
      "execution_count": 43,
      "outputs": [
        {
          "output_type": "execute_result",
          "data": {
            "text/plain": [
              "AdaBoostClassifier(algorithm='SAMME.R', base_estimator=None, learning_rate=1.0,\n",
              "                   n_estimators=50, random_state=42)"
            ]
          },
          "metadata": {
            "tags": []
          },
          "execution_count": 43
        }
      ]
    },
    {
      "cell_type": "code",
      "metadata": {
        "colab": {
          "base_uri": "https://localhost:8080/"
        },
        "id": "gdIwJZt1-gst",
        "outputId": "20981dda-57dd-423b-d57f-a9e492753329"
      },
      "source": [
        "print(ada.predict(vector_test_x[0:10]))\n",
        "print(test_y[0:10])"
      ],
      "execution_count": 44,
      "outputs": [
        {
          "output_type": "stream",
          "text": [
            "['Not Aggressive' 'Not Aggressive' 'Aggressive' 'Not Aggressive'\n",
            " 'Aggressive' 'Aggressive' 'Not Aggressive' 'Aggressive' 'Not Aggressive'\n",
            " 'Not Aggressive']\n",
            "['Not Aggressive', 'Aggressive', 'Not Aggressive', 'Aggressive', 'Not Aggressive', 'Not Aggressive', 'Aggressive', 'Aggressive', 'Not Aggressive', 'Not Aggressive']\n"
          ],
          "name": "stdout"
        }
      ]
    },
    {
      "cell_type": "code",
      "metadata": {
        "id": "gOkPtsVe-gsu"
      },
      "source": [
        "scores.append(ada.score(vector_test_x, test_y))"
      ],
      "execution_count": 45,
      "outputs": []
    },
    {
      "cell_type": "code",
      "metadata": {
        "id": "Fis5bAth-gsv"
      },
      "source": [
        "fi.append(f1_score(test_y, ada.predict(vector_test_x), average = None))"
      ],
      "execution_count": 46,
      "outputs": []
    },
    {
      "cell_type": "markdown",
      "metadata": {
        "id": "BsFKm-aV_GVy"
      },
      "source": [
        "---\n",
        "## Gaussian Naive Bayes"
      ]
    },
    {
      "cell_type": "code",
      "metadata": {
        "id": "pZEnSQ41_GVy"
      },
      "source": [
        "from sklearn.naive_bayes import GaussianNB"
      ],
      "execution_count": 47,
      "outputs": []
    },
    {
      "cell_type": "code",
      "metadata": {
        "colab": {
          "base_uri": "https://localhost:8080/"
        },
        "id": "L1OsB94T_GVy",
        "outputId": "9a20607a-892a-464d-886b-ac7ff6058d23"
      },
      "source": [
        "gnb = GaussianNB()\n",
        "\n",
        "# constant to hold the vector train x values as a dense numpy array which is required by the gaussian nb to work\n",
        "dense = vector_train_x.todense()\n",
        "\n",
        "gnb.fit(dense, train_y)"
      ],
      "execution_count": 48,
      "outputs": [
        {
          "output_type": "execute_result",
          "data": {
            "text/plain": [
              "GaussianNB(priors=None, var_smoothing=1e-09)"
            ]
          },
          "metadata": {
            "tags": []
          },
          "execution_count": 48
        }
      ]
    },
    {
      "cell_type": "code",
      "metadata": {
        "colab": {
          "base_uri": "https://localhost:8080/"
        },
        "id": "qfZAFrUl_GVz",
        "outputId": "92f8839b-2432-4440-9a8f-ac587a1e8241"
      },
      "source": [
        "# constant to hold vector test x values\n",
        "dense_test = vector_test_x.todense()\n",
        "\n",
        "print(gnb.predict(dense_test[0:10]))\n",
        "print(test_y[0:10])"
      ],
      "execution_count": 49,
      "outputs": [
        {
          "output_type": "stream",
          "text": [
            "['Aggressive' 'Aggressive' 'Not Aggressive' 'Aggressive' 'Aggressive'\n",
            " 'Not Aggressive' 'Aggressive' 'Aggressive' 'Aggressive' 'Not Aggressive']\n",
            "['Not Aggressive', 'Aggressive', 'Not Aggressive', 'Aggressive', 'Not Aggressive', 'Not Aggressive', 'Aggressive', 'Aggressive', 'Not Aggressive', 'Not Aggressive']\n"
          ],
          "name": "stdout"
        }
      ]
    },
    {
      "cell_type": "code",
      "metadata": {
        "id": "bZQBokKx_GVz"
      },
      "source": [
        "scores.append(gnb.score(dense_test, test_y))"
      ],
      "execution_count": 50,
      "outputs": []
    },
    {
      "cell_type": "code",
      "metadata": {
        "id": "5mqD9rfW_GV0"
      },
      "source": [
        "fi.append(f1_score(test_y, gnb.predict(dense_test), average = None))"
      ],
      "execution_count": 51,
      "outputs": []
    },
    {
      "cell_type": "markdown",
      "metadata": {
        "id": "MnrqlRCKBvMQ"
      },
      "source": [
        "---\n",
        "## Gaussian Process Classifier"
      ]
    },
    {
      "cell_type": "code",
      "metadata": {
        "id": "A9oiMSxSBvMS"
      },
      "source": [
        "from sklearn.gaussian_process import GaussianProcessClassifier"
      ],
      "execution_count": 52,
      "outputs": []
    },
    {
      "cell_type": "code",
      "metadata": {
        "id": "UvbEx976BvMU"
      },
      "source": [
        "gpc = RandomForestClassifier(random_state= 42).fit(vector_train_x, train_y)"
      ],
      "execution_count": 53,
      "outputs": []
    },
    {
      "cell_type": "code",
      "metadata": {
        "colab": {
          "base_uri": "https://localhost:8080/"
        },
        "id": "epBDmruxBvMY",
        "outputId": "8407d9b3-5ec4-468d-9f58-ed33059c092f"
      },
      "source": [
        "print(gpc.predict(vector_test_x[0:10]))\n",
        "print(test_y[0:10])"
      ],
      "execution_count": 54,
      "outputs": [
        {
          "output_type": "stream",
          "text": [
            "['Not Aggressive' 'Aggressive' 'Not Aggressive' 'Aggressive' 'Aggressive'\n",
            " 'Not Aggressive' 'Aggressive' 'Aggressive' 'Not Aggressive'\n",
            " 'Not Aggressive']\n",
            "['Not Aggressive', 'Aggressive', 'Not Aggressive', 'Aggressive', 'Not Aggressive', 'Not Aggressive', 'Aggressive', 'Aggressive', 'Not Aggressive', 'Not Aggressive']\n"
          ],
          "name": "stdout"
        }
      ]
    },
    {
      "cell_type": "code",
      "metadata": {
        "id": "LEvMDYr2BvMZ"
      },
      "source": [
        "scores.append(gpc.score(vector_test_x, test_y))"
      ],
      "execution_count": 55,
      "outputs": []
    },
    {
      "cell_type": "code",
      "metadata": {
        "id": "no8CFElABvMb"
      },
      "source": [
        "fi.append(f1_score(test_y, gpc.predict(vector_test_x), average = None))"
      ],
      "execution_count": 56,
      "outputs": []
    },
    {
      "cell_type": "markdown",
      "metadata": {
        "id": "kZ4S_HIgCfyW"
      },
      "source": [
        "---\n",
        "## Quadratic Discriminant Analysis"
      ]
    },
    {
      "cell_type": "code",
      "metadata": {
        "id": "mDGrK2wmCfyW"
      },
      "source": [
        "from sklearn.discriminant_analysis import QuadraticDiscriminantAnalysis"
      ],
      "execution_count": 57,
      "outputs": []
    },
    {
      "cell_type": "code",
      "metadata": {
        "colab": {
          "base_uri": "https://localhost:8080/"
        },
        "id": "R-dyz2ZNCfyX",
        "outputId": "09bcb35a-f202-4583-ad24-61ae377f4406"
      },
      "source": [
        "qda = QuadraticDiscriminantAnalysis()\n",
        "\n",
        "# this also needs a dense numpy array\n",
        "qda.fit(dense, train_y)"
      ],
      "execution_count": 58,
      "outputs": [
        {
          "output_type": "stream",
          "text": [
            "/usr/local/lib/python3.7/dist-packages/sklearn/discriminant_analysis.py:691: UserWarning: Variables are collinear\n",
            "  warnings.warn(\"Variables are collinear\")\n"
          ],
          "name": "stderr"
        },
        {
          "output_type": "execute_result",
          "data": {
            "text/plain": [
              "QuadraticDiscriminantAnalysis(priors=None, reg_param=0.0,\n",
              "                              store_covariance=False, tol=0.0001)"
            ]
          },
          "metadata": {
            "tags": []
          },
          "execution_count": 58
        }
      ]
    },
    {
      "cell_type": "code",
      "metadata": {
        "colab": {
          "base_uri": "https://localhost:8080/"
        },
        "id": "77MGMgtqCfyY",
        "outputId": "a3227075-0ee0-4197-bbda-8b38ca3d00f7"
      },
      "source": [
        "print(qda.predict(dense_test[0:10]))\n",
        "print(test_y[0:10])"
      ],
      "execution_count": 59,
      "outputs": [
        {
          "output_type": "stream",
          "text": [
            "['Not Aggressive' 'Aggressive' 'Not Aggressive' 'Aggressive' 'Aggressive'\n",
            " 'Not Aggressive' 'Aggressive' 'Aggressive' 'Not Aggressive'\n",
            " 'Not Aggressive']\n",
            "['Not Aggressive', 'Aggressive', 'Not Aggressive', 'Aggressive', 'Not Aggressive', 'Not Aggressive', 'Aggressive', 'Aggressive', 'Not Aggressive', 'Not Aggressive']\n"
          ],
          "name": "stdout"
        }
      ]
    },
    {
      "cell_type": "code",
      "metadata": {
        "id": "J2jW8msLCfyY"
      },
      "source": [
        "scores.append(qda.score(dense_test, test_y))"
      ],
      "execution_count": 60,
      "outputs": []
    },
    {
      "cell_type": "code",
      "metadata": {
        "id": "mkuSn9-oCfyZ"
      },
      "source": [
        "fi.append(f1_score(test_y, qda.predict(dense_test), average = None))"
      ],
      "execution_count": 61,
      "outputs": []
    },
    {
      "cell_type": "markdown",
      "metadata": {
        "id": "Y1Z_P8O6H9sC"
      },
      "source": [
        "---\n",
        "## Neural Net"
      ]
    },
    {
      "cell_type": "code",
      "metadata": {
        "id": "SjrlLaP5H9sF"
      },
      "source": [
        "from sklearn.neural_network import MLPClassifier"
      ],
      "execution_count": 62,
      "outputs": []
    },
    {
      "cell_type": "code",
      "metadata": {
        "colab": {
          "base_uri": "https://localhost:8080/"
        },
        "id": "aXDngddVH9sH",
        "outputId": "86d732c4-3a06-4339-acf5-5b2c2ad80fa1"
      },
      "source": [
        "mlp = MLPClassifier(random_state= 42)\n",
        "\n",
        "mlp.fit(vector_train_x, train_y)"
      ],
      "execution_count": 63,
      "outputs": [
        {
          "output_type": "execute_result",
          "data": {
            "text/plain": [
              "MLPClassifier(activation='relu', alpha=0.0001, batch_size='auto', beta_1=0.9,\n",
              "              beta_2=0.999, early_stopping=False, epsilon=1e-08,\n",
              "              hidden_layer_sizes=(100,), learning_rate='constant',\n",
              "              learning_rate_init=0.001, max_fun=15000, max_iter=200,\n",
              "              momentum=0.9, n_iter_no_change=10, nesterovs_momentum=True,\n",
              "              power_t=0.5, random_state=42, shuffle=True, solver='adam',\n",
              "              tol=0.0001, validation_fraction=0.1, verbose=False,\n",
              "              warm_start=False)"
            ]
          },
          "metadata": {
            "tags": []
          },
          "execution_count": 63
        }
      ]
    },
    {
      "cell_type": "code",
      "metadata": {
        "colab": {
          "base_uri": "https://localhost:8080/"
        },
        "id": "bMd-yXkBH9sI",
        "outputId": "95768dec-320f-44d8-d004-3c73aceb4911"
      },
      "source": [
        "print(mlp.predict(vector_test_x[0:10]))\n",
        "print(test_y[0:10])"
      ],
      "execution_count": 64,
      "outputs": [
        {
          "output_type": "stream",
          "text": [
            "['Not Aggressive' 'Aggressive' 'Not Aggressive' 'Aggressive' 'Aggressive'\n",
            " 'Not Aggressive' 'Aggressive' 'Aggressive' 'Not Aggressive'\n",
            " 'Not Aggressive']\n",
            "['Not Aggressive', 'Aggressive', 'Not Aggressive', 'Aggressive', 'Not Aggressive', 'Not Aggressive', 'Aggressive', 'Aggressive', 'Not Aggressive', 'Not Aggressive']\n"
          ],
          "name": "stdout"
        }
      ]
    },
    {
      "cell_type": "code",
      "metadata": {
        "id": "PL1-TAWRH9sJ"
      },
      "source": [
        "scores.append(mlp.score(vector_test_x, test_y))"
      ],
      "execution_count": 65,
      "outputs": []
    },
    {
      "cell_type": "code",
      "metadata": {
        "id": "-Inedt0FH9sK"
      },
      "source": [
        "fi.append(f1_score(test_y, mlp.predict(vector_test_x), average = None))"
      ],
      "execution_count": 66,
      "outputs": []
    },
    {
      "cell_type": "markdown",
      "metadata": {
        "id": "jEYGUVTGZ0pj"
      },
      "source": [
        "\n",
        "\n",
        "---\n",
        "\n",
        "\n",
        "## Analysis\n",
        "\n",
        "---\n",
        "\n"
      ]
    },
    {
      "cell_type": "code",
      "metadata": {
        "colab": {
          "base_uri": "https://localhost:8080/",
          "height": 417
        },
        "id": "DO8jTGfKXg5x",
        "outputId": "7d700dd4-1bfc-4523-abf6-e7f094d3c0cf"
      },
      "source": [
        "# To graph the F1 results of all the classifiers\n",
        "\n",
        "x = ['linear svm','radial svm','knn','decision tree','random forest','ada boost','gaussian naive bayes','gaussian process','qda','neural net']\n",
        "\n",
        "y = [i[0] for i in fi]\n",
        "z = [i[1] for i in fi]\n",
        "\n",
        "plt.figure(figsize=(30,10))\n",
        "\n",
        "xa = np.arange(len(x))\n",
        "\n",
        "plt.bar(xa-0.2, y, 0.4, label = 'Not Aggressive', color = '#c1121f')\n",
        "plt.bar(xa+0.2, z, 0.4, label = 'Aggressive', color = '#669bbc')\n",
        "\n",
        "plt.xticks(xa, x, fontsize = 14)\n",
        "plt.yticks(fontsize = 14)\n",
        "\n",
        "plt.title('F1 scores for each classifier', fontsize = 20)\n",
        "\n",
        "plt.ylabel('F1 Score', fontsize = 14)\n",
        "\n",
        "plt.legend(fontsize = 14)\n",
        "\n",
        "plt.grid()\n",
        "\n",
        "plt.show()\n"
      ],
      "execution_count": 69,
      "outputs": [
        {
          "output_type": "display_data",
          "data": {
            "image/png": "[encoded data removed]",
            "text/plain": [
              "<Figure size 2160x720 with 1 Axes>"
            ]
          },
          "metadata": {
            "tags": [],
            "needs_background": "light"
          }
        }
      ]
    },
    {
      "cell_type": "code",
      "metadata": {
        "colab": {
          "base_uri": "https://localhost:8080/",
          "height": 295
        },
        "id": "WqDmYDdyWUZP",
        "outputId": "3175acbb-5277-4278-c366-1b005003cf5b"
      },
      "source": [
        "# To plot the scores of the analysis\n",
        "\n",
        "# plt.figure(figsize=(30,10))\n",
        "\n",
        "plt.barh(x,scores, color = '#b5e48c')\n",
        "\n",
        "plt.title('Scores of each classifier')\n",
        "\n",
        "plt.xlabel('Scores')\n",
        "\n",
        "plt.grid()\n",
        "\n",
        "plt.show()"
      ],
      "execution_count": 68,
      "outputs": [
        {
          "output_type": "display_data",
          "data": {
            "image/png": "[encoded data removed]",
            "text/plain": [
              "<Figure size 432x288 with 1 Axes>"
            ]
          },
          "metadata": {
            "tags": [],
            "needs_background": "light"
          }
        }
      ]
    },
    {
      "cell_type": "markdown",
      "metadata": {
        "id": "qqPwEdqhrvKr"
      },
      "source": [
        "We can see that Quadratic Discriminant Analysis, Gaussian Process Classification and Random Forest works best with this data.\n",
        "\n",
        "\n",
        "---\n",
        "\n",
        "\n",
        "\n",
        "---\n",
        "\n"
      ]
    }
  ]
}